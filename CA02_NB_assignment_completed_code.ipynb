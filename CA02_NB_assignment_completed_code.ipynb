{
 "cells": [
  {
   "cell_type": "markdown",
   "metadata": {
    "colab_type": "text",
    "id": "iCZYXwtCsL_y"
   },
   "source": [
    "CA02: This is a eMail Spam Classifers that uses Naive Bayes supervised machine learning algorithm. \n",
    "\n",
    "In this assignment you will ...\n",
    "1. Complete the code such a way that it works correctly with this given parts of the program.\n",
    "2. Explain as clearly as possible what each part of the code is doing. Use \"Markdown\" texts and code commenting to explain the code\n",
    "\n",
    "IMPORTANT NOTE:\n",
    "\n",
    "The path of your data folders 'train-mails' and 'test-mails' must be './train-mails' and './test-mails'. This means you must have your .ipynb file and these folders in the SAME FOLDER in your laptop or Google Drive. The reason for doing this is, this way the peer reviewes and I would be able to run your code from our computers using this exact same relative path, irrespective of our folder hierarchy."
   ]
  },
  {
   "cell_type": "code",
   "execution_count": 113,
   "metadata": {
    "colab": {},
    "colab_type": "code",
    "id": "4p_DvtT7sOIr"
   },
   "outputs": [],
   "source": [
    "import os\n",
    "import numpy as np\n",
    "from collections import Counter\n",
    "\n",
    "# Import all other necessary libraries. Your code below ...\n",
    "import pandas as pd\n",
    "import sklearn as sk\n",
    "import numpy as np\n",
    "import matplotlib.pyplot as plt\n",
    "from sklearn.naive_bayes import MultinomialNB\n",
    "from sklearn.metrics import accuracy_score"
   ]
  },
  {
   "cell_type": "code",
   "execution_count": 114,
   "metadata": {
    "colab": {},
    "colab_type": "code",
    "id": "jjKF0nIMwz8_"
   },
   "outputs": [],
   "source": [
    "def make_Dictionary(root_dir):\n",
    "    #Creates a empty matrix to store the values in \n",
    "  all_words = []\n",
    "    #Stores the list of the paths of all of the email files in a variable\n",
    "  emails = [os.path.join(root_dir,f) for f in os.listdir(root_dir)]\n",
    "    #This for loop opens each email individually and then reads the email. As it is reading the email,\n",
    "    # the loop will split the words and store them in all words (empty list established earlier.\n",
    "  for mail in emails:\n",
    "    with open(mail) as m:\n",
    "      for line in m:\n",
    "        words = line.split()\n",
    "        all_words += words\n",
    "    #Counter(all_words) counts the number of times each word occurs and then stores it in dictionary variable\n",
    "  dictionary = Counter(all_words)\n",
    "    #Converts the dictionary into a list of values that will eventually be removed  \n",
    "  list_to_remove = list(dictionary)\n",
    "#Loops through the list and removes all non-alphabetic words and single character words\n",
    "  for item in list_to_remove:\n",
    "    if item.isalpha() == False:\n",
    "      del dictionary[item]\n",
    "    elif len(item) == 1:\n",
    "      del dictionary[item]\n",
    "    #Selects the 3,000 most common words to use as features\n",
    "  dictionary = dictionary.most_common(3000)\n",
    "    #Returns the final dictionary of words\n",
    "  return dictionary\n",
    "            "
   ]
  },
  {
   "cell_type": "code",
   "execution_count": 115,
   "metadata": {
    "colab": {},
    "colab_type": "code",
    "id": "dmVW5xNlyOFc"
   },
   "outputs": [],
   "source": [
    "def extract_features(mail_dir):\n",
    "    #Extracts the paths for all emails and stroes them in the files variables\n",
    "  files = [os.path.join(mail_dir,fi) for fi in os.listdir(mail_dir)]\n",
    "    #Creates a matrix with the size of (number of emails x 3000) all with the value of 0\n",
    "  features_matrix = np.zeros((len(files),3000))\n",
    "    #Creates a matrix with the size of (number of emails) all with the value of 0\n",
    "  train_labels = np.zeros(len(files))\n",
    "    #Initiate counter variables\n",
    "  count = 1;\n",
    "  docID = 0;\n",
    "    #Reads each email and updates feature vectors based on word occurances\n",
    "  for fil in files:\n",
    "    with open(fil) as fi:\n",
    "      for i, line in enumerate(fi):\n",
    "        if i ==2:\n",
    "          words = line.split()\n",
    "          for word in words:\n",
    "            wordID = 0\n",
    "              #If the current word is in the dictionary, it increments the corresponding feature\n",
    "              #value.\n",
    "            for i, d in enumerate(dictionary):\n",
    "              if d[0] == word:\n",
    "                wordID = i\n",
    "                features_matrix[docID,wordID] = words.count(word)\n",
    "        #Extracts the name of the file by splotting the path and considering only the last part of the path\n",
    "      train_labels[docID] = 0;\n",
    "        #If this program is being run on Windows change / to \\\\ in the split function below\n",
    "      filepathTokens = fil.split('\\\\')\n",
    "      lastToken = filepathTokens[len(filepathTokens)-1]\n",
    "          #If the name of the file contains \"spmsg\" label it as a spam message\n",
    "      if lastToken.startswith(\"spmsg\"):\n",
    "        train_labels[docID] = 1;\n",
    "        count = count + 1\n",
    "      docID = docID + 1\n",
    "  return features_matrix, train_labels                "
   ]
  },
  {
   "cell_type": "code",
   "execution_count": 116,
   "metadata": {
    "colab": {},
    "colab_type": "code",
    "id": "zoq-rE7Mx0pp"
   },
   "outputs": [],
   "source": [
    "# Enter the \"path\" of your \"train_mails\" and \"test-mails\" FOLDERS in this cell ...\n",
    "# for example: TRAIN_DIR = '../../train-mails'\n",
    "#              TEST_DIR = '../../test-mails'\n",
    "\n",
    "TRAIN_DIR = './train-mails'\n",
    "TEST_DIR = './test-mails'"
   ]
  },
  {
   "cell_type": "code",
   "execution_count": 117,
   "metadata": {
    "colab": {
     "base_uri": "https://localhost:8080/",
     "height": 119
    },
    "colab_type": "code",
    "executionInfo": {
     "elapsed": 127480,
     "status": "ok",
     "timestamp": 1578886833446,
     "user": {
      "displayName": "Arin Brahma",
      "photoUrl": "https://lh3.googleusercontent.com/a-/AAuE7mBXGIW7FvUnbm_QmEFGh4rLebuLHNZgc8PuNinU=s64",
      "userId": "05299564422021375910"
     },
     "user_tz": 480
    },
    "id": "134lmhauyQxE",
    "outputId": "83cce6a6-aff5-4e93-ef0a-700606437aa9"
   },
   "outputs": [
    {
     "name": "stdout",
     "output_type": "stream",
     "text": [
      "reading and processing emails from TRAIN and TEST folders\n"
     ]
    }
   ],
   "source": [
    "#Build the dictionary for the training data\n",
    "dictionary = make_Dictionary(TRAIN_DIR)\n",
    "\n",
    "print (\"reading and processing emails from TRAIN and TEST folders\")\n",
    "#Extracting the feature matricies for the training and the test data\n",
    "features_matrix, labels = extract_features(TRAIN_DIR)\n",
    "test_features_matrix, test_labels = extract_features(TEST_DIR)"
   ]
  },
  {
   "cell_type": "code",
   "execution_count": 118,
   "metadata": {},
   "outputs": [
    {
     "name": "stdout",
     "output_type": "stream",
     "text": [
      "[('order', 1414), ('address', 1299), ('report', 1217), ('mail', 1133), ('language', 1099), ('send', 1080), ('email', 1066), ('program', 1009), ('our', 991), ('list', 946), ('one', 921), ('name', 883), ('receive', 826), ('free', 801), ('money', 797), ('work', 756), ('information', 684), ('business', 669), ('please', 657), ('university', 600), ('us', 567), ('day', 559), ('follow', 545), ('internet', 533), ('over', 514), ('call', 488), ('http', 479), ('check', 475), ('each', 466), ('linguistic', 460), ('include', 452), ('com', 450), ('want', 426), ('need', 426), ('number', 424), ('letter', 420), ('many', 412), ('here', 400), ('market', 398), ('start', 390), ('even', 388), ('fax', 384), ('form', 381), ('most', 377), ('first', 374), ('web', 372), ('service', 365), ('interest', 364), ('software', 362), ('read', 352), ('remove', 349), ('those', 346), ('week', 346), ('credit', 334), ('every', 333), ('site', 331), ('ll', 326), ('english', 325), ('edu', 319), ('much', 318), ('product', 318), ('bulk', 318), ('phone', 315), ('offer', 303), ('best', 302), ('must', 299), ('two', 298), ('cost', 294), ('www', 294), ('computer', 292), ('link', 284), ('state', 279), ('card', 279), ('home', 277), ('own', 275), ('re', 273), ('de', 272), ('available', 270), ('system', 265), ('million', 264), ('message', 262), ('opportunity', 262), ('conference', 261), ('after', 258), ('place', 257), ('question', 257), ('pay', 257), ('within', 255), ('world', 255), ('write', 254), ('hour', 253), ('help', 253), ('sell', 251), ('copy', 248), ('show', 248), ('below', 247), ('same', 243), ('book', 241), ('file', 240), ('through', 235), ('directory', 234), ('before', 232), ('word', 230), ('easy', 230), ('where', 229), ('income', 228), ('try', 227), ('thank', 226), ('tell', 222), ('today', 221), ('company', 220), ('member', 216), ('example', 216), ('back', 214), ('advertise', 214), ('month', 213), ('different', 213), ('subject', 211), ('etc', 209), ('ask', 206), ('contact', 206), ('response', 206), ('cash', 206), ('learn', 205), ('linguist', 205), ('cd', 204), ('little', 203), ('add', 202), ('anyone', 199), ('research', 199), ('per', 199), ('right', 199), ('process', 198), ('down', 197), ('special', 197), ('type', 197), ('again', 197), ('is', 197), ('save', 196), ('least', 195), ('ve', 195), ('live', 195), ('off', 194), ('price', 193), ('level', 192), ('provide', 192), ('line', 191), ('change', 190), ('financial', 189), ('post', 188), ('require', 188), ('search', 187), ('few', 186), ('sure', 186), ('box', 185), ('let', 185), ('paper', 184), ('never', 183), ('ffa', 183), ('life', 181), ('teach', 178), ('text', 177), ('thing', 177), ('page', 177), ('four', 177), ('great', 176), ('case', 175), ('participate', 173), ('really', 172), ('buy', 171), ('between', 170), ('part', 170), ('both', 170), ('net', 170), ('success', 169), ('plan', 169), ('request', 167), ('move', 165), ('simply', 165), ('instruction', 164), ('click', 164), ('reply', 162), ('package', 162), ('discourse', 161), ('method', 161), ('ever', 161), ('less', 160), ('point', 160), ('win', 160), ('seem', 159), ('theory', 158), ('several', 158), ('dollar', 158), ('why', 157), ('step', 157), ('put', 156), ('student', 156), ('important', 156), ('simple', 156), ('rate', 156), ('next', 155), ('thousand', 155), ('friend', 155), ('linguistics', 154), ('ship', 154), ('legal', 153), ('guarantee', 153), ('school', 151), ('course', 151), ('fact', 150), ('return', 150), ('note', 150), ('floodgate', 150), ('position', 149), ('american', 149), ('under', 148), ('account', 147), ('ad', 147), ('keep', 147), ('talk', 147), ('reference', 146), ('since', 146), ('allow', 146), ('analysis', 145), ('better', 145), ('until', 145), ('sale', 145), ('experience', 144), ('result', 144), ('study', 143), ('present', 143), ('speaker', 142), ('grammar', 142), ('remember', 142), ('another', 141), ('city', 140), ('wish', 139), ('problem', 139), ('group', 139), ('believe', 139), ('family', 139), ('person', 139), ('bank', 138), ('international', 136), ('full', 136), ('vium', 136), ('complete', 136), ('print', 136), ('leave', 136), ('once', 136), ('section', 136), ('total', 135), ('lot', 135), ('answer', 135), ('date', 134), ('area', 134), ('too', 134), ('plus', 134), ('georgetown', 134), ('future', 134), ('second', 133), ('department', 133), ('bill', 133), ('office', 132), ('lose', 132), ('issue', 132), ('earn', 132), ('while', 131), ('above', 130), ('long', 130), ('further', 129), ('adult', 129), ('mean', 127), ('join', 127), ('amount', 127), ('ca', 126), ('set', 126), ('video', 126), ('purchase', 126), ('publish', 125), ('without', 125), ('run', 125), ('possible', 124), ('become', 124), ('server', 124), ('real', 123), ('nothing', 123), ('uk', 122), ('job', 122), ('base', 122), ('still', 121), ('something', 120), ('accept', 120), ('already', 120), ('major', 119), ('sign', 119), ('code', 119), ('personal', 119), ('support', 118), ('registration', 118), ('everyone', 118), ('game', 118), ('understand', 116), ('fee', 116), ('small', 115), ('visit', 115), ('however', 115), ('record', 115), ('someone', 115), ('speech', 115), ('minute', 113), ('detail', 113), ('bonus', 112), ('mailing', 112), ('discussion', 111), ('human', 111), ('able', 110), ('hear', 110), ('decide', 110), ('limit', 110), ('john', 109), ('hard', 109), ('secret', 109), ('child', 108), ('rule', 107), ('guide', 107), ('online', 106), ('alway', 106), ('papers', 105), ('begin', 105), ('are', 105), ('sex', 105), ('tax', 105), ('aol', 105), ('exactly', 104), ('open', 103), ('additional', 103), ('reason', 103), ('past', 103), ('virtual', 103), ('profit', 103), ('either', 102), ('investment', 102), ('payment', 101), ('general', 101), ('speak', 101), ('charge', 101), ('actually', 101), ('three', 100), ('application', 100), ('verb', 100), ('content', 100), ('technology', 100), ('sound', 100), ('ye', 100), ('customer', 100), ('teacher', 99), ('break', 99), ('access', 99), ('pass', 98), ('anywhere', 98), ('fill', 97), ('acquisition', 97), ('happen', 97), ('immediately', 97), ('usa', 96), ('build', 96), ('though', 96), ('electronic', 96), ('structure', 96), ('washington', 96), ('choose', 96), ('ed', 95), ('knowledge', 95), ('communication', 94), ('abstract', 94), ('assume', 94), ('html', 94), ('true', 94), ('anything', 93), ('meet', 93), ('ac', 93), ('direct', 93), ('material', 93), ('feel', 93), ('wait', 92), ('yourself', 92), ('consider', 91), ('topic', 91), ('syntax', 90), ('contain', 90), ('hand', 90), ('science', 90), ('old', 89), ('datum', 89), ('manual', 89), ('generate', 89), ('end', 89), ('soon', 89), ('single', 88), ('title', 88), ('standard', 88), ('professional', 88), ('create', 88), ('ago', 87), ('later', 87), ('claim', 87), ('bring', 87), ('national', 87), ('continue', 87), ('away', 87), ('postal', 87), ('envelope', 87), ('top', 86), ('participant', 85), ('german', 85), ('kind', 85), ('feature', 85), ('everything', 85), ('phonology', 84), ('hundred', 84), ('delete', 84), ('history', 83), ('matter', 83), ('else', 83), ('stop', 83), ('development', 82), ('center', 82), ('links', 82), ('natural', 81), ('apply', 81), ('march', 81), ('window', 81), ('currency', 81), ('orders', 81), ('source', 80), ('telephone', 80), ('mention', 80), ('involve', 80), ('share', 80), ('express', 80), ('pp', 80), ('stealth', 80), ('session', 79), ('idea', 79), ('version', 79), ('yours', 79), ('debt', 79), ('car', 78), ('large', 78), ('far', 78), ('action', 78), ('test', 78), ('country', 78), ('ready', 78), ('figure', 78), ('target', 78), ('dream', 78), ('relate', 77), ('approach', 77), ('advantage', 77), ('tool', 77), ('russian', 77), ('woman', 77), ('visa', 77), ('watch', 77), ('education', 76), ('view', 76), ('handle', 76), ('construction', 75), ('high', 75), ('man', 75), ('effort', 75), ('press', 75), ('chair', 75), ('chance', 75), ('risk', 75), ('summary', 74), ('spend', 74), ('extra', 74), ('potential', 74), ('value', 73), ('dialect', 73), ('dr', 73), ('easily', 73), ('hold', 73), ('prove', 73), ('zip', 73), ('whole', 73), ('reports', 73), ('capitalfm', 73), ('house', 72), ('review', 72), ('current', 72), ('organization', 72), ('turn', 72), ('music', 72), ('download', 72), ('offshore', 72), ('society', 71), ('class', 71), ('age', 71), ('law', 71), ('mind', 71), ('reach', 71), ('query', 70), ('field', 70), ('original', 70), ('drive', 70), ('collect', 70), ('fun', 70), ('always', 70), ('discover', 69), ('cut', 69), ('street', 69), ('advertisement', 69), ('publication', 68), ('almost', 68), ('term', 68), ('enter', 68), ('against', 68), ('story', 68), ('york', 68), ('dear', 68), ('security', 68), ('millions', 68), ('social', 67), ('around', 67), ('enclose', 67), ('la', 67), ('successful', 67), ('power', 67), ('pronoun', 67), ('effective', 67), ('select', 67), ('format', 67), ('probably', 67), ('engine', 67), ('hope', 66), ('respond', 66), ('st', 66), ('native', 66), ('ny', 66), ('means', 66), ('individual', 66), ('user', 66), ('doubt', 66), ('room', 65), ('various', 65), ('yet', 65), ('vowel', 65), ('rest', 65), ('completely', 65), ('travel', 65), ('directly', 64), ('whether', 64), ('along', 64), ('sentence', 64), ('inc', 64), ('big', 64), ('foreign', 63), ('deal', 63), ('phonetic', 63), ('resource', 63), ('institute', 63), ('vol', 63), ('rather', 63), ('finally', 63), ('comment', 63), ('id', 63), ('increase', 63), ('shor', 63), ('sales', 63), ('quite', 62), ('short', 62), ('register', 62), ('train', 62), ('invite', 62), ('journal', 62), ('announcement', 62), ('raise', 62), ('appear', 62), ('goal', 62), ('together', 62), ('connection', 62), ('mass', 62), ('capital', 62), ('david', 61), ('french', 61), ('object', 61), ('produce', 61), ('enough', 61), ('chinese', 61), ('miss', 61), ('freedom', 61), ('design', 60), ('semantic', 60), ('certain', 60), ('rich', 60), ('japanese', 60), ('payable', 59), ('expect', 59), ('america', 59), ('main', 59), ('website', 59), ('huge', 59), ('circular', 58), ('ability', 58), ('phenomenon', 58), ('info', 58), ('develop', 58), ('quality', 58), ('loan', 58), ('attention', 57), ('control', 57), ('perhap', 57), ('digital', 57), ('computational', 57), ('play', 57), ('explain', 57), ('entire', 57), ('lead', 57), ('mastercard', 57), ('culture', 56), ('historical', 56), ('advance', 56), ('domain', 56), ('low', 56), ('difference', 56), ('academic', 56), ('index', 56), ('multus', 56), ('happy', 56), ('literature', 55), ('article', 55), ('aspect', 55), ('due', 55), ('po', 55), ('specific', 55), ('spanish', 55), ('model', 55), ('local', 55), ('federal', 55), ('dept', 55), ('especially', 55), ('associate', 55), ('don', 55), ('reduplication', 54), ('exchange', 54), ('mary', 54), ('mark', 54), ('author', 54), ('six', 54), ('judgment', 54), ('latest', 54), ('master', 54), ('public', 54), ('sexual', 54), ('tm', 54), ('cover', 53), ('recent', 53), ('correct', 53), ('common', 53), ('suite', 53), ('close', 53), ('error', 53), ('piece', 53), ('recruit', 53), ('fresh', 53), ('filter', 53), ('hot', 53), ('european', 52), ('project', 52), ('track', 52), ('update', 52), ('exist', 52), ('mailer', 52), ('kid', 52), ('seven', 52), ('news', 52), ('fast', 52), ('profitable', 52), ('mlm', 52), ('hotel', 51), ('prepare', 51), ('le', 51), ('volume', 51), ('college', 51), ('often', 51), ('absolutely', 51), ('grammatical', 51), ('june', 51), ('january', 51), ('sometime', 51), ('cognitive', 51), ('concern', 51), ('deliver', 51), ('provider', 51), ('invest', 51), ('deat', 50), ('speed', 50), ('submit', 50), ('formal', 50), ('locate', 50), ('love', 50), ('direction', 50), ('enjoy', 50), ('themselve', 50), ('government', 50), ('discuss', 49), ('pragmatic', 49), ('couple', 49), ('population', 49), ('particle', 49), ('indicate', 49), ('committee', 49), ('half', 49), ('century', 49), ('worldwide', 49), ('qualify', 49), ('database', 49), ('compuserve', 49), ('hit', 49), ('third', 48), ('modern', 48), ('upon', 48), ('grow', 48), ('category', 48), ('situation', 48), ('californium', 48), ('morphology', 48), ('technical', 48), ('refer', 48), ('intelligence', 48), ('imagine', 48), ('club', 48), ('powerful', 48), ('goldrush', 48), ('dori', 48), ('context', 47), ('wide', 47), ('suggest', 47), ('myself', 47), ('clear', 47), ('agree', 47), ('distinction', 47), ('girl', 47), ('hr', 47), ('sort', 47), ('discount', 47), ('htm', 47), ('tel', 46), ('syntactic', 46), ('recently', 46), ('principle', 46), ('early', 46), ('comparison', 46), ('longer', 46), ('submission', 46), ('cannot', 46), ('phrase', 46), ('benefit', 46), ('length', 46), ('pick', 46), ('membership', 46), ('excite', 46), ('isp', 46), ('ems', 46), ('signature', 45), ('wonder', 45), ('unite', 45), ('respondent', 45), ('particular', 45), ('basis', 45), ('non', 45), ('similar', 45), ('toll', 45), ('delivery', 45), ('tense', 45), ('sincerely', 45), ('works', 45), ('boyfriend', 45), ('lunch', 44), ('sample', 44), ('relative', 44), ('forward', 44), ('instead', 44), ('july', 44), ('workshop', 44), ('sheet', 44), ('road', 44), ('space', 44), ('period', 44), ('yes', 44), ('quickly', 44), ('using', 44), ('worth', 44), ('partner', 44), ('movement', 44), ('luck', 44), ('five', 44), ('perfectly', 44), ('chechen', 44), ('forget', 43), ('february', 43), ('propose', 43), ('candidate', 43), ('inquiry', 43), ('lexical', 43), ('outside', 43), ('evidence', 43), ('initial', 43), ('enterprise', 43), ('quick', 43), ('private', 43), ('postage', 43), ('der', 43), ('reduce', 43), ('hello', 43), ('unique', 42), ('practice', 42), ('commercial', 42), ('deaf', 42), ('canada', 42), ('legitimate', 42), ('industry', 42), ('regard', 42), ('beautiful', 42), ('chain', 42), ('campaign', 42), ('cent', 42), ('amaze', 42), ('duplicate', 42), ('celebrity', 42), ('quote', 41), ('effect', 41), ('actual', 41), ('community', 41), ('paul', 41), ('frank', 41), ('shop', 41), ('technique', 41), ('universal', 41), ('picture', 41), ('introduce', 41), ('phonological', 41), ('forum', 41), ('background', 41), ('ipa', 41), ('stock', 41), ('act', 41), ('ok', 41), ('org', 41), ('truly', 41), ('agency', 41), ('rights', 41), ('paradise', 41), ('alter', 41), ('self', 41), ('corporation', 41), ('marketing', 41), ('independent', 40), ('evaluation', 40), ('drop', 40), ('theoretical', 40), ('replace', 40), ('presentation', 40), ('seminar', 40), ('voice', 40), ('description', 40), ('table', 40), ('global', 40), ('document', 40), ('thanks', 40), ('compare', 40), ('collection', 40), ('alone', 40), ('monthly', 40), ('optional', 40), ('september', 39), ('activity', 39), ('night', 39), ('prefer', 39), ('north', 39), ('final', 39), ('organizer', 39), ('au', 39), ('although', 39), ('disk', 39), ('summer', 39), ('richard', 39), ('higher', 39), ('achieve', 39), ('synthetic', 39), ('treat', 39), ('fund', 39), ('block', 39), ('nor', 39), ('artificial', 39), ('url', 39), ('operate', 39), ('expression', 39), ('insurance', 39), ('clean', 39), ('choice', 39), ('automatically', 39), ('retire', 39), ('girlfriend', 39), ('depend', 38), ('degree', 38), ('maybe', 38), ('tape', 38), ('introduction', 38), ('concept', 38), ('beach', 38), ('graphic', 38), ('except', 38), ('pc', 38), ('promise', 38), ('proof', 38), ('release', 38), ('moment', 38), ('forever', 38), ('spam', 38), ('xxx', 38), ('late', 37), ('graduate', 37), ('focus', 37), ('deadline', 37), ('certainly', 37), ('south', 37), ('across', 37), ('conversation', 37), ('argument', 37), ('symbol', 37), ('dc', 37), ('sum', 37), ('hesitate', 37), ('task', 37), ('necessary', 37), ('daily', 37), ('comparative', 37), ('co', 37), ('sake', 37), ('opposite', 37), ('totally', 37), ('benjamin', 37), ('rom', 37), ('addresses', 37), ('color', 37), ('mortgage', 37), ('refund', 37), ('relax', 37), ('michael', 36), ('sense', 36), ('relationship', 36), ('dutch', 36), ('participation', 36), ('highly', 36), ('whatever', 36), ('addition', 36), ('eliminate', 36), ('cc', 36), ('describe', 36), ('guvax', 36), ('interpretation', 36), ('obviously', 36), ('succeed', 36), ('editor', 36), ('clause', 36), ('air', 36), ('header', 36), ('extremely', 36), ('prompt', 36), ('ingush', 36), ('trade', 36), ('competition', 36), ('client', 36), ('resell', 36), ('semantics', 35), ('item', 35), ('cultural', 35), ('transfer', 35), ('obtain', 35), ('translation', 35), ('edinburgh', 35), ('function', 35), ('inform', 35), ('ignore', 35), ('ten', 35), ('among', 35), ('unlimit', 35), ('london', 35), ('element', 35), ('december', 35), ('separate', 35), ('bottom', 35), ('toward', 35), ('germany', 35), ('regular', 35), ('classify', 35), ('stem', 35), ('valuable', 35), ('multiple', 35), ('fig', 35), ('trial', 35), ('accurately', 35), ('hottest', 35), ('undeliverable', 35), ('currently', 34), ('centre', 34), ('skill', 34), ('suggestion', 34), ('range', 34), ('movie', 34), ('series', 34), ('peter', 34), ('ibm', 34), ('whose', 34), ('sorry', 34), ('establish', 34), ('usually', 34), ('determine', 34), ('susan', 34), ('greek', 34), ('gender', 34), ('head', 34), ('deposit', 34), ('organize', 34), ('network', 34), ('excellent', 34), ('afford', 34), ('nice', 34), ('agreement', 34), ('extract', 34), ('plural', 34), ('traditional', 34), ('guy', 34), ('sequence', 34), ('eye', 34), ('african', 34), ('slip', 34), ('np', 33), ('thus', 33), ('relevant', 33), ('style', 33), ('itself', 33), ('useful', 33), ('ling', 33), ('doe', 33), ('nature', 33), ('association', 33), ('radio', 33), ('origin', 33), ('carry', 33), ('front', 33), ('relation', 33), ('key', 33), ('stuff', 33), ('care', 33), ('fully', 33), ('star', 33), ('vacation', 33), ('newsletter', 33), ('employment', 33), ('exclusive', 33), ('promotion', 33), ('hair', 33), ('guaranteed', 33), ('greatest', 33), ('pro', 32), ('role', 32), ('double', 32), ('hi', 32), ('welcome', 32), ('verify', 32), ('edition', 32), ('perspective', 32), ('humor', 32), ('desire', 32), ('team', 32), ('gls', 32), ('ave', 32), ('annual', 32), ('maintain', 32), ('correctly', 32), ('roll', 32), ('substantial', 32), ('weekly', 32), ('usd', 32), ('brand', 32), ('magazine', 32), ('faster', 32), ('programs', 32), ('billion', 32), ('bitnet', 31), ('sociolinguistic', 31), ('stanford', 31), ('negative', 31), ('mandarin', 31), ('demonstrate', 31), ('dissertation', 31), ('seek', 31), ('acquire', 31), ('texa', 31), ('austin', 31), ('cause', 31), ('basic', 31), ('publisher', 31), ('location', 31), ('intercultural', 31), ('serious', 31), ('purpose', 31), ('accessible', 31), ('philosophy', 31), ('surely', 31), ('bid', 31), ('match', 31), ('am', 31), ('den', 31), ('sender', 31), ('instructions', 31), ('did', 31), ('excess', 31), ('asset', 31), ('fortune', 31), ('md', 31), ('narrative', 30), ('theme', 30), ('et', 30), ('contribution', 30), ('clearly', 30), ('dictionary', 30), ('represent', 30), ('mi', 30), ('guideline', 30), ('distribution', 30), ('mr', 30), ('william', 30), ('usage', 30), ('wrong', 30), ('avoid', 30), ('economy', 30), ('respect', 30), ('contrast', 30), ('arabic', 30), ('saturday', 30), ('indeed', 30), ('proper', 30), ('tip', 30), ('event', 30), ('ftp', 30), ('password', 30), ('animal', 30), ('intend', 30), ('representation', 30), ('pre', 30), ('hypothesis', 30), ('cloth', 30), ('pm', 30), ('mailbox', 30), ('wealth', 30), ('newsgroup', 30), ('gruyter', 30), ('paste', 30), ('classified', 30), ('il', 29), ('statement', 29), ('arrive', 29), ('throughout', 29), ('near', 29), ('combine', 29), ('affiliation', 29), ('robert', 29), ('pattern', 29), ('force', 29), ('sponsor', 29), ('noun', 29), ('announce', 29), ('font', 29), ('plenary', 29), ('fall', 29), ('art', 29), ('boy', 29), ('machine', 29), ('edit', 29), ('during', 29), ('identity', 29), ('prior', 29), ('owe', 29), ('compatible', 29), ('minimal', 29), ('everyday', 29), ('promote', 29), ('overnight', 29), ('services', 29), ('cable', 29), ('financially', 29), ('friday', 28), ('martin', 28), ('relevance', 28), ('coffee', 28), ('accommodation', 28), ('side', 28), ('stay', 28), ('command', 28), ('influence', 28), ('otherwise', 28), ('san', 28), ('occur', 28), ('communicate', 28), ('mexico', 28), ('basically', 28), ('count', 28), ('label', 28), ('relatively', 28), ('throw', 28), ('href', 28), ('creole', 28), ('image', 28), ('earth', 28), ('lucky', 28), ('gold', 28), ('muc', 28), ('fantastic', 28), ('alba', 28), ('literary', 27), ('scotland', 27), ('town', 27), ('easier', 27), ('ph', 27), ('strong', 27), ('anybody', 27), ('consonant', 27), ('attempt', 27), ('stress', 27), ('face', 27), ('mac', 27), ('indigenous', 27), ('marker', 27), ('holiday', 27), ('strategy', 27), ('song', 27), ('valid', 27), ('earlier', 27), ('perfect', 27), ('suppose', 27), ('macintosh', 27), ('store', 27), ('indo', 27), ('florida', 27), ('unit', 27), ('popular', 27), ('surprise', 27), ('gain', 27), ('immediate', 27), ('latex', 27), ('exact', 27), ('berlin', 27), ('ch', 27), ('gov', 27), ('practically', 27), ('waste', 27), ('demo', 27), ('super', 27), ('spider', 27), ('genie', 27), ('chat', 27), ('ram', 27), ('encourage', 26), ('appropriate', 26), ('colleague', 26), ('mine', 26), ('appreciate', 26), ('professor', 26), ('borrow', 26), ('ii', 26), ('stage', 26), ('unless', 26), ('status', 26), ('functional', 26), ('political', 26), ('middle', 26), ('august', 26), ('parallel', 26), ('plain', 26), ('policy', 26), ('average', 26), ('larger', 26), ('official', 26), ('distance', 26), ('option', 26), ('management', 26), ('millionaire', 26), ('southern', 25), ('lo', 25), ('programme', 25), ('walk', 25), ('eat', 25), ('psycholinguistic', 25), ('corpus', 25), ('tone', 25), ('library', 25), ('en', 25), ('particularly', 25), ('bind', 25), ('ms', 25), ('november', 25), ('charle', 25), ('party', 25), ('commission', 25), ('recognize', 25), ('indiana', 25), ('notion', 25), ('opinion', 25), ('cantonese', 25), ('bulletin', 25), ('reservation', 25), ('mid', 25), ('variety', 25), ('production', 25), ('fellow', 25), ('normal', 25), ('copyright', 25), ('camera', 25), ('africa', 25), ('previous', 25), ('wife', 25), ('derive', 25), ('subscriber', 25), ('smith', 25), ('owner', 25), ('war', 25), ('ape', 25), ('fl', 25), ('amazing', 25), ('staggering', 25), ('favourite', 25), ('wednesday', 24), ('hall', 24), ('phonetics', 24), ('possibility', 24), ('notice', 24), ('johnson', 24), ('canadian', 24), ('selection', 24), ('remark', 24), ('western', 24), ('jame', 24), ('ext', 24), ('interaction', 24), ('west', 24), ('pretty', 24), ('host', 24), ('schedule', 24), ('race', 24), ('bite', 24), ('sit', 24), ('bear', 24), ('prof', 24), ('honest', 24), ('expiration', 24), ('parent', 24), ('ez', 24), ('insert', 24), ('rush', 24), ('carefully', 24), ('supply', 24), ('lack', 24), ('expensive', 24), ('audio', 24), ('protect', 24), ('realistic', 24), ('protection', 24), ('wrap', 24), ('tremendous', 24), ('stamp', 24), ('ticket', 24), ('lottery', 24), ('dial', 24), ('comply', 24), ('junk', 24), ('bel', 24), ('infoseek', 24), ('cartel', 24), ('est', 23), ('oral', 23), ('recommend', 23), ('serve', 23), ('complex', 23), ('europe', 23), ('shock', 23), ('requirement', 23), ('minimum', 23), ('compile', 23), ('bibliography', 23), ('monday', 23), ('medical', 23), ('classroom', 23), ('random', 23), ('terminology', 23), ('van', 23), ('shift', 23), ('compound', 23), ('karen', 23), ('equal', 23), ('brief', 23), ('imply', 23), ('nlp', 23), ('tom', 23), ('overt', 23), ('inexpensive', 23), ('netherland', 23), ('majority', 23), ('meaning', 23), ('mouton', 23), ('reader', 23), ('odd', 23), ('decision', 23), ('germanic', 23), ('loss', 23), ('explanation', 23), ('overview', 23), ('license', 23), ('wa', 23), ('largest', 23), ('newspaper', 23), ('convince', 23), ('quit', 23), ('loader', 23), ('incredible', 23), ('bankruptcy', 23), ('unlimited', 23), ('instant', 23), ('sources', 23), ('lists', 23), ('plans', 23), ('gent', 22), ('therefore', 22), ('director', 22), ('british', 22), ('se', 22), ('primary', 22), ('constraint', 22), ('avenue', 22), ('portuguese', 22), ('remain', 22), ('variation', 22), ('ma', 22), ('bus', 22), ('park', 22), ('coordinator', 22), ('priority', 22), ('distribute', 22), ('tx', 22), ('cite', 22), ('film', 22), ('tv', 22), ('improve', 22), ('pa', 22), ('mit', 22), ('chapter', 22), ('distinct', 22), ('secure', 22), ('lower', 22), ('realize', 22), ('progressive', 22), ('instance', 22), ('edward', 22), ('listen', 22), ('reality', 22), ('health', 22), ('boundary', 22), ('finish', 22), ('die', 22), ('modify', 22), ('weight', 22), ('accountant', 22), ('vanish', 22), ('instruct', 22), ('utility', 22), ('drug', 22), ('dramatically', 22), ('estate', 22), ('marketer', 22), ('numbers', 22), ('hardcore', 22), ('modem', 22), ('dollars', 22), ('hundreds', 22), ('easiest', 22), ('hobby', 22), ('gamble', 22), ('everythe', 22), ('downline', 22), ('subliminal', 22), ('lee', 21), ('australium', 21), ('campus', 21), ('attend', 21), ('dan', 21), ('october', 21), ('reveal', 21), ('typical', 21), ('isbn', 21), ('advice', 21), ('utterance', 21), ('foot', 21), ('ie', 21), ('audience', 21), ('staff', 21), ('acceptance', 21), ('green', 21), ('perform', 21), ('greater', 21), ('screen', 21), ('poor', 21), ('contract', 21), ('interview', 21), ('property', 21), ('nl', 21), ('russium', 21), ('factor', 21), ('acceptable', 21), ('progress', 21), ('aside', 21), ('genetic', 21), ('satisfy', 21), ('engage', 21), ('expense', 21), ('investigate', 21), ('pl', 21), ('prospects', 21), ('button', 21), ('feminine', 21), ('television', 21), ('ban', 21), ('recipient', 21), ('scam', 21), ('penny', 21), ('weeks', 21), ('meg', 21), ('upgrade', 21), ('supplies', 20), ('tradition', 20), ('performance', 20), ('specifically', 20), ('cheque', 20), ('undergraduate', 20), ('pound', 20), ('berkeley', 20), ('telnet', 20), ('apology', 20), ('correspondence', 20), ('greatly', 20), ('attach', 20), ('manuscript', 20), ('court', 20), ('root', 20), ('cambridge', 20), ('generation', 20), ('chomsky', 20), ('anonymous', 20), ('discipline', 20), ('assumption', 20), ('condition', 20), ('reserve', 20), ('eastern', 20), ('rank', 20), ('difficult', 20), ('gurt', 20), ('crash', 20), ('young', 20), ('guess', 20), ('und', 20), ('institution', 20), ('media', 20), ('medium', 20), ('agent', 20), ('convenience', 20), ('body', 20), ('presence', 20), ('lay', 20), ('conservative', 20), ('previously', 20), ('size', 20), ('interactive', 20), ('doctor', 20), ('leiden', 20), ('dave', 20), ('suffix', 20), ('employee', 20), ('evaluating', 20), ('draft', 20), ('markedness', 20), ('uga', 20), ('portion', 20), ('ordering', 20), ('gang', 20), ('irs', 20), ('webmaster', 20), ('bet', 20), ('advertiser', 20), ('laugh', 20), ('buyer', 20), ('prodigy', 20), ('corporations', 20), ('install', 20), ('illinoi', 19), ('angele', 19), ('food', 19), ('numerous', 19), ('northern', 19), ('nt', 19), ('debate', 19), ('curriculum', 19), ('competence', 19), ('conclude', 19), ('survey', 19), ('vary', 19), ('observe', 19), ('oxford', 19), ('existence', 19), ('mistake', 19), ('univ', 19), ('logic', 19), ('researcher', 19), ('ray', 19), ('meeting', 19), ('proceeding', 19), ('receipt', 19), ('morphological', 19), ('ann', 19), ('pennsylvanium', 19), ('likely', 19), ('grant', 19), ('growth', 19), ('touch', 19), ('alternative', 19), ('whatsoever', 19), ('obligation', 19), ('sao', 19), ('tome', 19), ('tilburg', 19), ('unlike', 19), ('iow', 19), ('ultimate', 19), ('warn', 19), ('definitely', 19), ('batch', 19), ('manage', 19), ('fine', 19), ('orlando', 19), ('competitor', 19), ('chimp', 19), ('male', 19), ('faith', 19), ('delphus', 19), ('bang', 19), ('entrepreneur', 19), ('dec', 18), ('overlook', 18), ('thursday', 18), ('hundr', 18), ('amsterdam', 18), ('east', 18), ('apparently', 18), ('accord', 18), ('consist', 18), ('april', 18), ('dick', 18), ('correspond', 18), ('symposium', 18), ('essential', 18), ('reconstruction', 18), ('buffalo', 18), ('brown', 18), ('chicago', 18), ('fit', 18), ('connect', 18), ('colloquium', 18), ('sunday', 18), ('gu', 18), ('circle', 18), ('contribute', 18), ('preference', 18), ('amt', 18), ('generally', 18), ('somewhat', 18), ('transaction', 18), ('black', 18), ('operation', 18), ('engineer', 18), ('has', 18), ('enable', 18), ('swedish', 18), ('tree', 18), ('finger', 18), ('hide', 18), ('virtually', 18), ('prevent', 18), ('objective', 18), ('basque', 18), ('colloquial', 18), ('solution', 18), ('female', 18), ('affix', 18), ('scandinavian', 18), ('delay', 18), ('initially', 18), ('outline', 18), ('demonstrative', 18), ('cyber', 18), ('disc', 18), ('edge', 18), ('pittsburgh', 18), ('bogus', 18), ('hotmail', 18), ('cgus', 18), ('hours', 18), ('lifetime', 18), ('cleanest', 18), ('extractor', 18), ('nc', 18), ('kit', 18), ('limited', 18), ('judicial', 18), ('retail', 18), ('executive', 18), ('days', 18), ('overload', 18), ('making', 18), ('tcw', 18), ('sun', 17), ('favorite', 17), ('unfortunately', 17), ('introductory', 17), ('linguistique', 17), ('repetition', 17), ('steve', 17), ('al', 17), ('spring', 17), ('permission', 17), ('confirm', 17), ('arizona', 17), ('restriction', 17), ('beyond', 17), ('min', 17), ('vii', 17), ('deictic', 17), ('verbal', 17), ('erickson', 17), ('deborah', 17), ('analytic', 17), ('marc', 17), ('conclusion', 17), ('challenge', 17), ('pair', 17), ('difficulty', 17), ('consideration', 17), ('fr', 17), ('environment', 17), ('vocabulary', 17), ('responsible', 17), ('advise', 17), ('internal', 17), ('jp', 17), ('pronunciation', 17), ('character', 17), ('txt', 17), ('attack', 17), ('personally', 17), ('draw', 17), ('oversea', 17), ('dfl', 17), ('learner', 17), ('grand', 17), ('strip', 17), ('singular', 17), ('safe', 17), ('thesis', 17), ('definition', 17), ('cluster', 17), ('empty', 17), ('everybody', 17), ('extensive', 17), ('ahead', 17), ('humanity', 17), ('load', 17), ('scheme', 17), ('demand', 17), ('devote', 17), ('prize', 17), ('christmas', 17), ('convert', 17), ('paragraph', 17), ('armey', 17), ('channel', 17), ('jackson', 17), ('trust', 17), ('browser', 17), ('smtp', 17), ('blvd', 17), ('template', 17), ('profile', 17), ('shors', 17), ('tech', 17), ('sexually', 17), ('tcps', 17), ('conceal', 17), ('creditor', 17), ('sent', 17), ('selle', 17), ('started', 17), ('racer', 17), ('blank', 17), ('testimonial', 17), ('imc', 17), ('bf', 16), ('instructor', 16), ('assistant', 16), ('generative', 16), ('helpful', 16), ('intuition', 16), ('variable', 16), ('jean', 16), ('joke', 16), ('andrew', 16), ('dordrecht', 16), ('practical', 16), ('prosodic', 16), ('complement', 16), ('shall', 16), ('representative', 16), ('round', 16), ('reaction', 16), ('aware', 16), ('monitor', 16), ('latin', 16), ('gift', 16), ('bob', 16), ('responsibility', 16), ('reasonable', 16), ('literally', 16), ('jan', 16), ('resident', 16), ('ren', 16), ('strike', 16), ('eventually', 16), ('light', 16), ('approximately', 16), ('esl', 16), ('correction', 16), ('parameter', 16), ('preposition', 16), ('data', 16), ('ease', 16), ('examine', 16), ('attitude', 16), ('equivalent', 16), ('diurnal', 16), ('pencil', 16), ('phillip', 16), ('innateness', 16), ('tend', 16), ('steal', 16), ('italy', 16), ('possibly', 16), ('groningen', 16), ('reap', 16), ('village', 16), ('inside', 16), ('appeal', 16), ('successfully', 16), ('statistics', 16), ('wall', 16), ('beat', 16), ('coupon', 16), ('specialize', 16), ('extraordinary', 16), ('vision', 16), ('gay', 16), ('liar', 16), ('intrusion', 16), ('affordable', 16), ('boss', 16), ('futuresignal', 16), ('snail', 16), ('tips', 16), ('reg', 16), ('golden', 16), ('secrets', 16), ('thousands', 16), ('vga', 16), ('broken', 16), ('listserv', 15), ('highlight', 15), ('expand', 15), ('breakfast', 15), ('door', 15), ('cycle', 15), ('durham', 15), ('whom', 15), ('posting', 15), ('characteristic', 15), ('da', 15), ('lsa', 15), ('capture', 15), ('gb', 15), ('alexis', 15), ('stand', 15), ('lanse', 15), ('summarize', 15), ('encode', 15), ('ethnic', 15), ('alan', 15), ('stick', 15), ('fail', 15), ('iii', 15), ('maria', 15), ('applicant', 15), ('identify', 15), ('women', 15), ('roger', 15), ('airport', 15), ('primarily', 15), ('rock', 15), ('italian', 15), ('france', 15), ('tag', 15), ('manufacturer', 15), ('assist', 15), ('innovative', 15), ('favor', 15), ('curious', 15), ('harvard', 15), ('england', 15), ('asian', 15), ('moreover', 15), ('universitaet', 15), ('textbook', 15), ('japan', 15), ('assessment', 15), ('surface', 15), ('snow', 15), ('productive', 15), ('lawyer', 15), ('subscribe', 15), ('contents', 15), ('exclude', 15), ('trick', 15), ('flow', 15), ('oh', 15), ('dozen', 15), ('leed', 15), ('pacific', 15), ('believer', 15), ('gather', 15), ('brazilian', 15), ('binary', 15), ('fight', 15), ('diana', 15), ('iowa', 15), ('photo', 15), ('extend', 15), ('jeff', 15), ('death', 15), ('military', 15), ('mix', 15), ('significant', 15), ('vehicle', 15), ('pronominal', 15), ('patient', 15), ('ours', 15), ('affair', 15), ('energy', 15), ('linux', 15), ('informative', 15), ('flaw', 15), ('clothe', 15), ('biggest', 15), ('jasmin', 15), ('tracus', 15), ('porn', 15), ('qty', 15), ('earnings', 15), ('retirement', 15), ('released', 15), ('bull', 15), ('utilize', 15), ('teen', 15), ('amateur', 15), ('anytime', 15), ('unsolicit', 15), ('regardless', 15), ('criminal', 15), ('ofs', 15), ('raleigh', 15), ('dental', 15), ('stamped', 15), ('casino', 15), ('scholar', 14), ('reflect', 14), ('morn', 14), ('nearly', 14), ('anthropology', 14), ('vita', 14), ('hence', 14), ('map', 14), ('tamu', 14), ('familiar', 14), ('transcription', 14), ('thoma', 14), ('older', 14), ('normally', 14), ('confuse', 14), ('violation', 14), ('latter', 14), ('ltd', 14), ('explore', 14), ('syllable', 14), ('solve', 14), ('perception', 14), ('christopher', 14), ('phd', 14), ('display', 14), ('interface', 14), ('notification', 14), ('water', 14), ('authority', 14), ('methodology', 14), ('careful', 14), ('inflection', 14), ('equipment', 14), ('translate', 14), ('red', 14), ('specialist', 14), ('solid', 14), ('component', 14), ('preferably', 14), ('merge', 14), ('evaluate', 14), ('balance', 14), ('apologize', 14), ('implication', 14), ('tutorial', 14), ('polish', 14), ('compute', 14), ('calculate', 14), ('persistent', 14), ('ball', 14), ('failure', 14), ('glad', 14), ('husband', 14), ('trouble', 14), ('barbara', 14), ('imperative', 14), ('bp', 14), ('span', 14), ('entry', 14), ('upset', 14), ('confidence', 14), ('counter', 14), ('push', 14), ('evolution', 14), ('attract', 14), ('intonation', 14), ('reward', 14), ('presumably', 14), ('white', 14), ('repeat', 14), ('pamelum', 14), ('deep', 14), ('unmark', 14), ('gesture', 14), ('revenue', 14), ('frame', 14), ('winner', 14), ('prospective', 14), ('turkic', 14), ('independence', 14), ('survive', 14), ('hawaius', 14), ('brian', 14), ('barcelona', 14), ('effectively', 14), ('pain', 14), ('straight', 14), ('setup', 14), ('bounce', 14), ('ads', 14), ('annabel', 14), ('richer', 14), ('moo', 14), ('toy', 14), ('bad', 14), ('coreference', 14), ('percentage', 14), ('confidential', 14), ('finance', 14), ('mci', 14), ('trash', 14), ('driver', 14), ('biz', 14), ('privacy', 14), ('residual', 14), ('returns', 14), ('fetish', 14), ('jump', 14), ('banner', 14), ('advertising', 14), ('inflation', 14), ('instantly', 14), ('logical', 13), ('remind', 13), ('writer', 13), ('tuesday', 13), ('aim', 13), ('industrial', 13), ('administrative', 13), ('surround', 13), ('specify', 13), ('salt', 13), ('fix', 13), ('el', 13), ('nobody', 13), ('psychology', 13), ('formation', 13), ('accent', 13), ('nj', 13), ('none', 13), ('operator', 13), ('adjective', 13), ('cogscus', 13), ('scientist', 13), ('uc', 13), ('matthew', 13), ('define', 13), ('affect', 13), ('humorous', 13), ('conversational', 13), ('combination', 13), ('faculty', 13), ('children', 13), ('motivate', 13), ('genre', 13), ('dislocation', 13), ('mostly', 13), ('classical', 13), ('expertise', 13), ('usc', 13), ('station', 13), ('union', 13), ('heart', 13), ('prospect', 13), ('notify', 13), ('merely', 13), ('personality', 13), ('constitute', 13), ('sing', 13), ('active', 13), ('coin', 13), ('cte', 13), ('parse', 13), ('pronounce', 13), ('construct', 13), ('dialogue', 13), ('von', 13), ('recommendation', 13), ('daniel', 13), ('retain', 13), ('nation', 13), ('household', 13), ('incorporate', 13), ('distinguish', 13), ('anyway', 13), ('hebrew', 13), ('bulgarian', 13), ('band', 13), ('lie', 13), ('cross', 13), ('amherst', 13), ('spot', 13), ('crime', 13), ('intercourse', 13), ('diskette', 13), ('mathematical', 13), ('complaint', 13), ('atlantic', 13), ('resort', 13), ('keyboard', 13), ('ne', 13), ('insertion', 13), ('truth', 13), ('rental', 13), ('bond', 13), ('du', 13), ('liddell', 13), ('seriously', 13), ('comprehensive', 13), ('motor', 13), ('postcard', 13), ('allen', 13), ('mil', 13), ('homepage', 13), ('illegal', 13), ('smart', 13), ('ratio', 13), ('tire', 13), ('amlap', 13), ('msn', 13), ('juno', 13), ('birth', 13), ('legally', 13), ('entertainment', 13), ('refinance', 13), ('tout', 13), ('flamer', 13), ('pic', 13), ('recipe', 13), ('skeptical', 13), ('pipeline', 13), ('spouse', 13), ('airline', 13), ('reprint', 13), ('removal', 13), ('guild', 13), ('desirous', 13), ('totals', 13), ('sean', 13), ('mclaughlin', 13), ('lawful', 13), ('astonishment', 13), ('cram', 13), ('fairchild', 13), ('spokane', 13), ('comfort', 13), ('svminus', 13), ('false', 12), ('critical', 12), ('reception', 12), ('entitle', 12), ('compete', 12), ('busy', 12), ('cheap', 12), ('xerox', 12), ('experiment', 12), ('montreal', 12), ('un', 12), ('elizabeth', 12), ('cuny', 12), ('princeton', 12), ('taiwan', 12), ('mb', 12), ('mountain', 12), ('tongue', 12), ('restrict', 12), ('bilingual', 12), ('alabama', 12), ('output', 12), ('differ', 12), ('systemic', 12), ('fourth', 12), ('lecture', 12), ('ucla', 12), ('employer', 12), ('minority', 12), ('xiv', 12), ('metro', 12), ('exceed', 12), ('genuine', 12), ('infinitive', 12), ('larry', 12), ('pop', 12), ('spread', 12), ('conduct', 12), ('scope', 12), ('danish', 12), ('memory', 12), ('slavic', 12), ('hop', 12), ('adopt', 12), ('twelve', 12), ('strange', 12), ('administration', 12), ('thereafter', 12), ('rutger', 12), ('fuer', 12), ('singapore', 12), ('furthermore', 12), ('argue', 12), ('workplace', 12), ('extension', 12), ('slow', 12), ('grounds', 12), ('purely', 12), ('utrecht', 12), ('arm', 12), ('neither', 12), ('celebrate', 12), ('greenberg', 12), ('classification', 12), ('confident', 12), ('entirely', 12), ('vote', 12), ('massachusett', 12), ('tomorrow', 12), ('found', 12), ('region', 12), ('proud', 12), ('reproduce', 12), ('honor', 12), ('county', 12), ('anna', 12), ('editorial', 12), ('flame', 12), ('lowland', 12), ('trend', 12), ('te', 12), ('sue', 12), ('transmission', 12), ('victim', 12), ('wonderful', 12), ('compress', 12), ('tr', 12), ('partnership', 12), ('mx', 12), ('doorstep', 12), ('pack', 12), ('path', 12), ('yuen', 12), ('diachronic', 12), ('log', 12), ('ga', 12), ('ourselve', 12), ('pheromone', 12), ('wave', 12), ('jun', 12), ('linguistlist', 12), ('zero', 12), ('firm', 12), ('bit', 12), ('commerce', 12), ('suit', 12), ('required', 12), ('birthday', 12), ('fastest', 12), ('brooklyn', 12), ('paid', 12), ('stream', 12), ('vendor', 12), ('cearth', 12), ('sericel', 12), ('cum', 12), ('embark', 12), ('prepared', 12), ('benefits', 12), ('grumble', 12), ('spout', 12), ('merciless', 12), ('rat', 12), ('esq', 12), ('rockland', 12), ('rewrite', 12), ('blast', 12), ('stun', 12), ('cancun', 12), ('investnet', 12), ('descrambler', 12), ('excerpt', 12), ('entity', 11), ('dinner', 11), ('arrange', 11), ('tea', 11), ('restaurant', 11), ('venice', 11), ('rug', 11), ('frus', 11), ('ken', 11), ('beesley', 11), ('convention', 11), ('salary', 11), ('judgement', 11), ('violate', 11), ('thought', 11), ('apr', 11), ('norm', 11), ('santa', 11), ('communicative', 11), ('facility', 11), ('proceed', 11), ('institutional', 11), ('typically', 11), ('silver', 11), ('former', 11), ('celtic', 11), ('george', 11), ('clue', 11), ('mechanism', 11), ('budget', 11), ('strength', 11), ('ancient', 11), ('concordance', 11), ('michigan', 11), ('rice', 11), ('experimental', 11), ('twenty', 11), ('proposal', 11), ('facilitate', 11), ('worry', 11), ('arnold', 11), ('yield', 11), ('lexicon', 11), ('intention', 11), ('feed', 11), ('speakers', 11), ('economic', 11), ('hbe', 11), ('mill', 11), ('rd', 11), ('diego', 11), ('wccfl', 11), ('highway', 11), ('gl', 11), ('arise', 11), ('mystery', 11), ('hardware', 11), ('sgml', 11), ('afraid', 11), ('god', 11), ('central', 11), ('friendly', 11), ('father', 11), ('tokyo', 11), ('anderson', 11), ('accuracy', 11), ('bother', 11), ('vernacular', 11), ('abuse', 11), ('reading', 11), ('hearer', 11), ('finnish', 11), ('norwegian', 11), ('anu', 11), ('spell', 11), ('comrie', 11), ('migration', 11), ('diversity', 11), ('minus', 11), ('namely', 11), ('sil', 11), ('australian', 11), ('documentation', 11), ('unix', 11), ('manager', 11), ('pb', 11), ('prefix', 11), ('excuse', 11), ('belong', 11), ('catch', 11), ('originally', 11), ('soviet', 11), ('mother', 11), ('ist', 11), ('congress', 11), ('sle', 11), ('maximize', 11), ('dead', 11), ('ruth', 11), ('defend', 11), ('caucasian', 11), ('caucasus', 11), ('season', 11), ('mouse', 11), ('complain', 11), ('bargain', 11), ('deduct', 11), ('inclusion', 11), ('carl', 11), ('repair', 11), ('completion', 11), ('fieldwork', 11), ('beg', 11), ('fulfill', 11), ('intensification', 11), ('via', 11), ('massive', 11), ('revolution', 11), ('blow', 11), ('romanization', 11), ('twice', 11), ('ld', 11), ('adults', 11), ('obey', 11), ('ferraz', 11), ('preview', 11), ('barsky', 11), ('tommy', 11), ('patent', 11), ('spare', 11), ('fraction', 11), ('savings', 11), ('clearance', 11), ('mega', 11), ('launch', 11), ('divorce', 11), ('checks', 11), ('fabulous', 11), ('vbanaqeanvsuprqpnpphx', 11), ('premium', 11), ('llc', 11), ('promptly', 11), ('goods', 11), ('awesome', 11), ('isdn', 11), ('expose', 11), ('investigative', 11), ('compaq', 11), ('rntk', 11), ('belgium', 10), ('keynote', 10), ('pari', 10), ('jim', 10), ('korean', 10), ('micro', 10), ('absolute', 10), ('scholarly', 10), ('poster', 10), ('negotiate', 10), ('approval', 10), ('cf', 10), ('glasgow', 10), ('eugene', 10), ('church', 10), ('foundation', 10), ('adverb', 10), ('bar', 10), ('anthony', 10), ('typology', 10), ('precede', 10), ('insight', 10), ('lien', 10), ('bed', 10), ('nottingham', 10), ('appointment', 10), ('referee', 10), ('affirmative', 10), ('tesl', 10), ('capable', 10), ('jose', 10), ('interactional', 10), ('virginium', 10), ('route', 10), ('corner', 10), ('feb', 10), ('walter', 10), ('interpret', 10), ('tour', 10), ('heavy', 10), ('input', 10), ('assistance', 10), ('fashion', 10), ('norway', 10), ('lingua', 10), ('conflict', 10), ('commonly', 10), ('contrastive', 10), ('extreme', 10), ('rare', 10), ('secondary', 10), ('apple', 10), ('statistical', 10), ('importance', 10), ('eskimo', 10), ('obvious', 10), ('positive', 10), ('expert', 10), ('innate', 10), ('recognition', 10), ('claire', 10), ('hindus', 10), ('examination', 10), ('mall', 10), ('treasury', 10), ('deny', 10), ('max', 10), ('frequently', 10), ('clip', 10), ('steven', 10), ('wherea', 10), ('subjunctive', 10), ('similarity', 10), ('controversial', 10), ('stable', 10), ('citizen', 10), ('signal', 10), ('approve', 10), ('recording', 10), ('comprehension', 10), ('trail', 10), ('dislike', 10), ('circumstance', 10), ('encounter', 10), ('complexity', 10), ('donald', 10), ('morpheme', 10), ('literacy', 10), ('muncie', 10), ('th', 10), ('athen', 10), ('switch', 10), ('creat', 10), ('geoffrey', 10), ('import', 10), ('johanna', 10), ('irit', 10), ('icc', 10), ('integrate', 10), ('administrator', 10), ('explicit', 10), ('defense', 10), ('prime', 10), ('wealthy', 10), ('clinical', 10), ('sterl', 10), ('sriharus', 10), ('shame', 10), ('shares', 10), ('horse', 10), ('homosexual', 10), ('contest', 10), ('ted', 10), ('corporate', 10), ('pardon', 10), ('heterosexual', 10), ('pull', 10), ('ea', 10), ('uci', 10), ('assure', 10), ('educational', 10), ('hfl', 10), ('cure', 10), ('consistently', 10), ('buck', 10), ('burn', 10), ('multilevel', 10), ('seller', 10), ('living', 10), ('earning', 10), ('broker', 10), ('anon', 10), ('amex', 10), ('imagination', 10), ('yahoo', 10), ('lesbian', 10), ('countless', 10), ('recieve', 10), ('sleuth', 10), ('bundle', 10), ('kitchen', 10), ('proven', 10), ('cancel', 10), ('messages', 10), ('amd', 10), ('sleep', 10), ('bondage', 10), ('undoubtedly', 10), ('awhile', 10), ('complimentary', 10), ('math', 10), ('goodness', 10), ('spammer', 10), ('originate', 10), ('capacitor', 10), ('unsubscribe', 10), ('fantasy', 10), ('eepp', 10), ('robbie', 10), ('telecom', 10), ('princess', 10), ('detective', 10), ('attribute', 9), ('pala', 9), ('medieval', 9), ('pub', 9), ('brussel', 9), ('territory', 9), ('lake', 9), ('ce', 9), ('romance', 9), ('concord', 9), ('kroch', 9), ('phonetician', 9), ('cornell', 9), ('incorrect', 9), ('ff', 9), ('universite', 9), ('intensive', 9), ('integration', 9), ('afterward', 9), ('nathan', 9), ('analogy', 9), ('hill', 9), ('reflection', 9), ('bible', 9), ('broad', 9), ('stephen', 9), ('saarbruecken', 9), ('scientific', 9), ('board', 9), ('eric', 9), ('specialization', 9), ('nominal', 9), ('quantification', 9), ('spatial', 9), ('desirable', 9), ('senior', 9), ('religion', 9), ('interdisciplinary', 9), ('visual', 9), ('predication', 9), ('frederick', 9), ('hamilton', 9), ('inn', 9), ('regularly', 9), ('widely', 9), ('pursue', 9), ('string', 9), ('scott', 9), ('chri', 9), ('fool', 9), ('necessarily', 9), ('generator', 9), ('division', 9), ('preserve', 9), ('religious', 9), ('disappear', 9), ('yale', 9), ('frequent', 9), ('river', 9), ('catherine', 9), ('honestly', 9), ('hire', 9), ('las', 9), ('manner', 9), ('manchester', 9), ('reminder', 9), ('necessity', 9), ('derivational', 9), ('hint', 9), ('criterion', 9), ('alex', 9), ('judge', 9), ('unlikely', 9), ('brazil', 9), ('preliminary', 9), ('hpsg', 9), ('flexibility', 9), ('adoption', 9), ('procedure', 9), ('differently', 9), ('wayne', 9), ('bag', 9), ('poison', 9), ('ge', 9), ('branch', 9), ('roughly', 9), ('bruce', 9), ('neal', 9), ('aaa', 9), ('land', 9), ('nostratic', 9), ('apart', 9), ('cognate', 9), ('china', 9), ('airfare', 9), ('kevin', 9), ('watt', 9), ('iulc', 9), ('duplication', 9), ('asymmetry', 9), ('behind', 9), ('scenario', 9), ('partial', 9), ('ronald', 9), ('joseph', 9), ('concentrate', 9), ('clock', 9), ('greece', 9), ('electric', 9), ('fist', 9), ('alphabet', 9), ('ein', 9), ('panel', 9), ('dure', 9), ('strict', 9), ('representational', 9), ('msu', 9), ('minimalist', 9), ('toulouse', 9), ('andrea', 9), ('instructional', 9), ('presenter', 9), ('neighbor', 9), ('comparable', 9), ('orthography', 9), ('unemployment', 9), ('regional', 9), ('anti', 9), ('rohinus', 9), ('caption', 9), ('tab', 9), ('glide', 9), ('houston', 9), ('privately', 9), ('worst', 9), ('tucson', 9), ('worker', 9), ('anthropoid', 9), ('kanzus', 9), ('comprehend', 9), ('keller', 9), ('collin', 9), ('oversight', 9), ('accomplish', 9), ('thompson', 9), ('webster', 9), ('encouragement', 9), ('pt', 9), ('outstand', 9), ('bog', 9), ('newest', 9), ('pkzip', 9), ('explode', 9), ('carnie', 9), ('stampe', 9), ('francisco', 9), ('endless', 9), ('valkhoff', 9), ('continual', 9), ('shoriya', 9), ('int', 9), ('quantity', 9), ('talmy', 9), ('cruise', 9), ('approx', 9), ('removed', 9), ('fold', 9), ('tonya', 9), ('lord', 9), ('exp', 9), ('referral', 9), ('compliance', 9), ('permanently', 9), ('americana', 9), ('enterprize', 9), ('hud', 9), ('consumer', 9), ('dupe', 9), ('robbery', 9), ('authenticate', 9), ('mime', 9), ('charset', 9), ('emailer', 9), ('bottle', 9), ('friends', 9), ('explosive', 9), ('fortunately', 9), ('wilburn', 9), ('filled', 9), ('continent', 9), ('overflow', 9), ('bin', 9), ('someday', 9), ('dare', 9), ('respectfully', 9), ('pentium', 9), ('corp', 9), ('desktop', 9), ('deliverable', 9), ('included', 9), ('rousseau', 9), ('bridge', 8), ('confirmation', 8), ('deeply', 8), ('patrick', 8), ('shortly', 8), ('asl', 8), ('utah', 8), ('aux', 8), ('premier', 8), ('lecturer', 8), ('icelandic', 8), ('ellipsis', 8), ('connecticut', 8), ('folks', 8), ('que', 8), ('alouse', 8), ('seegmiller', 8), ('criticism', 8), ('classic', 8), ('satisfaction', 8), ('han', 8), ('transcr', 8), ('ecole', 8), ('sport', 8), ('perceive', 8), ('privilege', 8), ('geoff', 8), ('grammarian', 8), ('descriptive', 8), ('microsoft', 8), ('floor', 8), ('predicate', 8), ('fairly', 8), ('intellectual', 8), ('newly', 8), ('extent', 8), ('suny', 8), ('mode', 8), ('blackwell', 8), ('mouth', 8), ('goe', 8), ('anne', 8), ('dimension', 8), ('tim', 8), ('conjunction', 8), ('cognition', 8), ('developments', 8), ('weekend', 8), ('greeting', 8), ('rise', 8), ('govern', 8), ('enhance', 8), ('tony', 8), ('exception', 8), ('fiction', 8), ('lexicography', 8), ('estimate', 8), ('ongo', 8), ('bee', 8), ('venture', 8), ('wilhelm', 8), ('framework', 8), ('closely', 8), ('emerge', 8), ('optimality', 8), ('institut', 8), ('shareware', 8), ('numeral', 8), ('prepositional', 8), ('adjacent', 8), ('languages', 8), ('nlpeople', 8), ('aus', 8), ('academy', 8), ('laser', 8), ('printer', 8), ('valley', 8), ('nicola', 8), ('adv', 8), ('contemporary', 8), ('derivation', 8), ('arbitrary', 8), ('sery', 8), ('grind', 8), ('bailey', 8), ('escape', 8), ('subsequent', 8), ('bird', 8), ('shoot', 8), ('float', 8), ('lar', 8), ('lund', 8), ('conventional', 8), ('insult', 8), ('horn', 8), ('lease', 8), ('bernard', 8), ('millennium', 8), ('proto', 8), ('resemblance', 8), ('attendance', 8), ('hopefully', 8), ('made', 8), ('beth', 8), ('hausa', 8), ('yesterday', 8), ('symmetrical', 8), ('plug', 8), ('grateful', 8), ('measure', 8), ('mo', 8), ('conceptual', 8), ('discovery', 8), ('inconvenience', 8), ('ix', 8), ('behavior', 8), ('shape', 8), ('export', 8)]\n"
     ]
    }
   ],
   "source": [
    "#Printing variables to check if the features were properly extracted and labeled\n",
    "print(dictionary)"
   ]
  },
  {
   "cell_type": "code",
   "execution_count": 119,
   "metadata": {},
   "outputs": [
    {
     "name": "stdout",
     "output_type": "stream",
     "text": [
      "[0. 0. 0. 0. 0. 0. 0. 0. 0. 0. 0. 0. 0. 0. 0. 0. 0. 0. 0. 0. 0. 0. 0. 0.\n",
      " 0. 0. 0. 0. 0. 0. 0. 0. 0. 0. 0. 0. 0. 0. 0. 0. 0. 0. 0. 0. 0. 0. 0. 0.\n",
      " 0. 0. 0. 0. 0. 0. 0. 0. 0. 0. 0. 0. 0. 0. 0. 0. 0. 0. 0. 0. 0. 0. 0. 0.\n",
      " 0. 0. 0. 0. 0. 0. 0. 0. 0. 0. 0. 0. 0. 0. 0. 0. 0. 0. 0. 0. 0. 0. 0. 0.\n",
      " 0. 0. 0. 0. 0. 0. 0. 0. 0. 0. 0. 0. 0. 0. 0. 0. 0. 0. 0. 0. 0. 0. 0. 0.\n",
      " 0. 0. 0. 0. 0. 0. 0. 0. 0. 0. 0. 0. 0. 0. 0. 0. 0. 0. 0. 0. 0. 0. 0. 0.\n",
      " 0. 0. 0. 0. 0. 0. 0. 0. 0. 0. 0. 0. 0. 0. 0. 0. 0. 0. 0. 0. 0. 0. 0. 0.\n",
      " 0. 0. 0. 0. 0. 0. 0. 0. 0. 0. 0. 0. 0. 0. 0. 0. 0. 0. 0. 0. 0. 0. 0. 0.\n",
      " 0. 0. 0. 0. 0. 0. 0. 0. 0. 0. 0. 0. 0. 0. 0. 0. 0. 0. 0. 0. 0. 0. 0. 0.\n",
      " 0. 0. 0. 0. 0. 0. 0. 0. 0. 0. 0. 0. 0. 0. 0. 0. 0. 0. 0. 0. 0. 0. 0. 0.\n",
      " 0. 0. 0. 0. 0. 0. 0. 0. 0. 0. 0. 0. 0. 0. 0. 0. 0. 0. 0. 0. 0. 0. 0. 0.\n",
      " 0. 0. 0. 0. 0. 0. 0. 0. 0. 0. 0. 0. 0. 0. 0. 0. 0. 0. 0. 0. 0. 0. 0. 0.\n",
      " 0. 0. 0. 0. 0. 0. 0. 0. 0. 0. 0. 0. 0. 0. 0. 0. 0. 0. 0. 0. 0. 0. 0. 0.\n",
      " 0. 0. 0. 0. 0. 0. 0. 0. 0. 0. 0. 0. 0. 0. 0. 0. 0. 0. 0. 0. 0. 0. 0. 0.\n",
      " 0. 0. 0. 0. 0. 0. 0. 0. 0. 0. 0. 0. 0. 0. 0. 1. 1. 1. 1. 1. 1. 1. 1. 1.\n",
      " 1. 1. 1. 1. 1. 1. 1. 1. 1. 1. 1. 1. 1. 1. 1. 1. 1. 1. 1. 1. 1. 1. 1. 1.\n",
      " 1. 1. 1. 1. 1. 1. 1. 1. 1. 1. 1. 1. 1. 1. 1. 1. 1. 1. 1. 1. 1. 1. 1. 1.\n",
      " 1. 1. 1. 1. 1. 1. 1. 1. 1. 1. 1. 1. 1. 1. 1. 1. 1. 1. 1. 1. 1. 1. 1. 1.\n",
      " 1. 1. 1. 1. 1. 1. 1. 1. 1. 1. 1. 1. 1. 1. 1. 1. 1. 1. 1. 1. 1. 1. 1. 1.\n",
      " 1. 1. 1. 1. 1. 1. 1. 1. 1. 1. 1. 1. 1. 1. 1. 1. 1. 1. 1. 1. 1. 1. 1. 1.\n",
      " 1. 1. 1. 1. 1. 1. 1. 1. 1. 1. 1. 1. 1. 1. 1. 1. 1. 1. 1. 1. 1. 1. 1. 1.\n",
      " 1. 1. 1. 1. 1. 1. 1. 1. 1. 1. 1. 1. 1. 1. 1. 1. 1. 1. 1. 1. 1. 1. 1. 1.\n",
      " 1. 1. 1. 1. 1. 1. 1. 1. 1. 1. 1. 1. 1. 1. 1. 1. 1. 1. 1. 1. 1. 1. 1. 1.\n",
      " 1. 1. 1. 1. 1. 1. 1. 1. 1. 1. 1. 1. 1. 1. 1. 1. 1. 1. 1. 1. 1. 1. 1. 1.\n",
      " 1. 1. 1. 1. 1. 1. 1. 1. 1. 1. 1. 1. 1. 1. 1. 1. 1. 1. 1. 1. 1. 1. 1. 1.\n",
      " 1. 1. 1. 1. 1. 1. 1. 1. 1. 1. 1. 1. 1. 1. 1. 1. 1. 1. 1. 1. 1. 1. 1. 1.\n",
      " 1. 1. 1. 1. 1. 1. 1. 1. 1. 1. 1. 1. 1. 1. 1. 1. 1. 1. 1. 1. 1. 1. 1. 1.\n",
      " 1. 1. 1. 1. 1. 1. 1. 1. 1. 1. 1. 1. 1. 1. 1. 1. 1. 1. 1. 1. 1. 1. 1. 1.\n",
      " 1. 1. 1. 1. 1. 1. 1. 1. 1. 1. 1. 1. 1. 1. 1. 1. 1. 1. 1. 1. 1. 1. 1. 1.\n",
      " 1. 1. 1. 1. 1. 1.]\n"
     ]
    }
   ],
   "source": [
    "print(labels)"
   ]
  },
  {
   "cell_type": "code",
   "execution_count": 120,
   "metadata": {},
   "outputs": [
    {
     "name": "stdout",
     "output_type": "stream",
     "text": [
      "[[ 1.  0.  0. ...  1.  0.  0.]\n",
      " [ 1.  1.  0. ...  0.  0.  0.]\n",
      " [ 1.  0.  0. ...  0.  0.  0.]\n",
      " ...\n",
      " [ 0.  0.  0. ...  0.  0.  0.]\n",
      " [ 0.  0.  0. ...  0.  0.  0.]\n",
      " [17.  2.  0. ...  0.  0.  0.]]\n"
     ]
    }
   ],
   "source": [
    "print(test_features_matrix)"
   ]
  },
  {
   "cell_type": "code",
   "execution_count": 121,
   "metadata": {},
   "outputs": [
    {
     "name": "stdout",
     "output_type": "stream",
     "text": [
      "[0. 0. 0. 0. 0. 0. 0. 0. 0. 0. 0. 0. 0. 0. 0. 0. 0. 0. 0. 0. 0. 0. 0. 0.\n",
      " 0. 0. 0. 0. 0. 0. 0. 0. 0. 0. 0. 0. 0. 0. 0. 0. 0. 0. 0. 0. 0. 0. 0. 0.\n",
      " 0. 0. 0. 0. 0. 0. 0. 0. 0. 0. 0. 0. 0. 0. 0. 0. 0. 0. 0. 0. 0. 0. 0. 0.\n",
      " 0. 0. 0. 0. 0. 0. 0. 0. 0. 0. 0. 0. 0. 0. 0. 0. 0. 0. 0. 0. 0. 0. 0. 0.\n",
      " 0. 0. 0. 0. 0. 0. 0. 0. 0. 0. 0. 0. 0. 0. 0. 0. 0. 0. 0. 0. 0. 0. 0. 0.\n",
      " 0. 0. 0. 0. 0. 0. 0. 0. 0. 0. 1. 1. 1. 1. 1. 1. 1. 1. 1. 1. 1. 1. 1. 1.\n",
      " 1. 1. 1. 1. 1. 1. 1. 1. 1. 1. 1. 1. 1. 1. 1. 1. 1. 1. 1. 1. 1. 1. 1. 1.\n",
      " 1. 1. 1. 1. 1. 1. 1. 1. 1. 1. 1. 1. 1. 1. 1. 1. 1. 1. 1. 1. 1. 1. 1. 1.\n",
      " 1. 1. 1. 1. 1. 1. 1. 1. 1. 1. 1. 1. 1. 1. 1. 1. 1. 1. 1. 1. 1. 1. 1. 1.\n",
      " 1. 1. 1. 1. 1. 1. 1. 1. 1. 1. 1. 1. 1. 1. 1. 1. 1. 1. 1. 1. 1. 1. 1. 1.\n",
      " 1. 1. 1. 1. 1. 1. 1. 1. 1. 1. 1. 1. 1. 1. 1. 1. 1. 1. 1. 1.]\n"
     ]
    }
   ],
   "source": [
    "print(test_labels)"
   ]
  },
  {
   "cell_type": "code",
   "execution_count": 122,
   "metadata": {
    "colab": {
     "base_uri": "https://localhost:8080/",
     "height": 119
    },
    "colab_type": "code",
    "executionInfo": {
     "elapsed": 127480,
     "status": "ok",
     "timestamp": 1578886833446,
     "user": {
      "displayName": "Arin Brahma",
      "photoUrl": "https://lh3.googleusercontent.com/a-/AAuE7mBXGIW7FvUnbm_QmEFGh4rLebuLHNZgc8PuNinU=s64",
      "userId": "05299564422021375910"
     },
     "user_tz": 480
    },
    "id": "134lmhauyQxE",
    "outputId": "83cce6a6-aff5-4e93-ef0a-700606437aa9"
   },
   "outputs": [
    {
     "name": "stdout",
     "output_type": "stream",
     "text": [
      "Training Model Using Gausian(Multinomial) Naive Bayes Algorithm\n",
      "Training completed\n",
      "Testing trained model to predict Test Data Labels\n",
      "Completed classification of the Test Data\n",
      "Now printing Accuracy Score by comparing the Predicted Labels with the Test Labels: 96.15384615384616%\n"
     ]
    }
   ],
   "source": [
    "# In this section enter your code to TRAIN the model using Naive Bayes algorithm, then PREDICT and then evaluate PERFORMANCE (Accuracy)\n",
    "# Your code below ...\n",
    "\n",
    "\n",
    "\n",
    "#Training the Naive Bayes model using the training features and labels\n",
    "model = MultinomialNB()\n",
    "print(\"Training Model Using Gausian(Multinomial) Naive Bayes Algorithm\")\n",
    "model.fit(features_matrix, labels)\n",
    "print(\"Training completed\")\n",
    "\n",
    "#Using the trained model, we can predict email classifications of the test values\n",
    "print(\"Testing trained model to predict Test Data Labels\")\n",
    "y_pred=model.predict(test_features_matrix)\n",
    "print(\"Completed classification of the Test Data\")\n",
    "\n",
    "#Print the accuracy score of the data\n",
    "print(f\"Now printing Accuracy Score by comparing the Predicted Labels with the Test Labels: {accuracy_score(test_labels,y_pred)*100}%\")\n",
    "\n",
    "# Your output should look like below if your code is right"
   ]
  },
  {
   "cell_type": "markdown",
   "metadata": {
    "colab_type": "text",
    "id": "M5_mPrvN586A"
   },
   "source": [
    "======================= END OF PROGRAM ========================="
   ]
  }
 ],
 "metadata": {
  "colab": {
   "authorship_tag": "ABX9TyOaSi3qlFUlqTup/1esXCKD",
   "collapsed_sections": [],
   "name": "naive_bayes.ipynb",
   "provenance": []
  },
  "kernelspec": {
   "display_name": "Python 3 (ipykernel)",
   "language": "python",
   "name": "python3"
  },
  "language_info": {
   "codemirror_mode": {
    "name": "ipython",
    "version": 3
   },
   "file_extension": ".py",
   "mimetype": "text/x-python",
   "name": "python",
   "nbconvert_exporter": "python",
   "pygments_lexer": "ipython3",
   "version": "3.12.4"
  }
 },
 "nbformat": 4,
 "nbformat_minor": 4
}
